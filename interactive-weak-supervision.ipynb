{
 "cells": [
  {
   "cell_type": "markdown",
   "metadata": {},
   "source": [
    "# Interactive Weak Supervision for NLP"
   ]
  },
  {
   "cell_type": "markdown",
   "metadata": {},
   "source": [
    "## Lesson 1: Foundational Weak Supervision\n",
    "\n",
    "1. The labeling problem\n",
    "2. Some alternatives to hand labeling\n",
    "3. What is weak supervision?\n",
    "4. Implement a simple weakly supervised system"
   ]
  },
  {
   "cell_type": "markdown",
   "metadata": {},
   "source": [
    "3 key figures that a data scientist or subject matter expert (SME) can leverage in order to gauge the performance of probabilistic models and use the performance as encoded by the figures to iterate on the model:\n",
    "\n",
    "Base rate distribution,\n",
    "Probabilistic confusion matrix, and\n",
    "Label prediction distribution."
   ]
  },
  {
   "cell_type": "markdown",
   "metadata": {},
   "source": [
    "The first step in the workflow is to hand label a small sample of the data. The data we'll be working with here is the medical transcriptions dataset from Kaggle and the task is to predict whether any given transcription involved surgery, as given in the 'medical specialty' column. We'll use this column to hand label several rows, for pedagogical purposes, but this will usually be an SME looking through the transcription to label the rows. Let's jump in and have a look at our data:"
   ]
  },
  {
   "cell_type": "code",
   "execution_count": 16,
   "metadata": {},
   "outputs": [
    {
     "data": {
      "text/html": [
       "<div>\n",
       "<style scoped>\n",
       "    .dataframe tbody tr th:only-of-type {\n",
       "        vertical-align: middle;\n",
       "    }\n",
       "\n",
       "    .dataframe tbody tr th {\n",
       "        vertical-align: top;\n",
       "    }\n",
       "\n",
       "    .dataframe thead th {\n",
       "        text-align: right;\n",
       "    }\n",
       "</style>\n",
       "<table border=\"1\" class=\"dataframe\">\n",
       "  <thead>\n",
       "    <tr style=\"text-align: right;\">\n",
       "      <th></th>\n",
       "      <th>Description</th>\n",
       "      <th>Medical_specialty</th>\n",
       "      <th>Sample_name</th>\n",
       "      <th>transcription</th>\n",
       "    </tr>\n",
       "  </thead>\n",
       "  <tbody>\n",
       "    <tr>\n",
       "      <th>0</th>\n",
       "      <td>A 23-year-old white female presents with comp...</td>\n",
       "      <td>Allergy / Immunology</td>\n",
       "      <td>Allergic Rhinitis</td>\n",
       "      <td>SUBJECTIVE:,  This 23-year-old white female pr...</td>\n",
       "    </tr>\n",
       "    <tr>\n",
       "      <th>1</th>\n",
       "      <td>Consult for laparoscopic gastric bypass.</td>\n",
       "      <td>Bariatrics</td>\n",
       "      <td>Laparoscopic Gastric Bypass Consult - 2</td>\n",
       "      <td>PAST MEDICAL HISTORY:, He has difficulty climb...</td>\n",
       "    </tr>\n",
       "    <tr>\n",
       "      <th>2</th>\n",
       "      <td>Consult for laparoscopic gastric bypass.</td>\n",
       "      <td>Bariatrics</td>\n",
       "      <td>Laparoscopic Gastric Bypass Consult - 1</td>\n",
       "      <td>HISTORY OF PRESENT ILLNESS: , I have seen ABC ...</td>\n",
       "    </tr>\n",
       "    <tr>\n",
       "      <th>3</th>\n",
       "      <td>2-D M-Mode. Doppler.</td>\n",
       "      <td>Cardiovascular / Pulmonary</td>\n",
       "      <td>2-D Echocardiogram - 1</td>\n",
       "      <td>2-D M-MODE: , ,1.  Left atrial enlargement wit...</td>\n",
       "    </tr>\n",
       "    <tr>\n",
       "      <th>4</th>\n",
       "      <td>2-D Echocardiogram</td>\n",
       "      <td>Cardiovascular / Pulmonary</td>\n",
       "      <td>2-D Echocardiogram - 2</td>\n",
       "      <td>1.  The left ventricular cavity size and wall ...</td>\n",
       "    </tr>\n",
       "  </tbody>\n",
       "</table>\n",
       "</div>"
      ],
      "text/plain": [
       "                                         Description  \\\n",
       "0   A 23-year-old white female presents with comp...   \n",
       "1           Consult for laparoscopic gastric bypass.   \n",
       "2           Consult for laparoscopic gastric bypass.   \n",
       "3                             2-D M-Mode. Doppler.     \n",
       "4                                 2-D Echocardiogram   \n",
       "\n",
       "             Medical_specialty                                Sample_name  \\\n",
       "0         Allergy / Immunology                         Allergic Rhinitis    \n",
       "1                   Bariatrics   Laparoscopic Gastric Bypass Consult - 2    \n",
       "2                   Bariatrics   Laparoscopic Gastric Bypass Consult - 1    \n",
       "3   Cardiovascular / Pulmonary                    2-D Echocardiogram - 1    \n",
       "4   Cardiovascular / Pulmonary                    2-D Echocardiogram - 2    \n",
       "\n",
       "                                       transcription  \n",
       "0  SUBJECTIVE:,  This 23-year-old white female pr...  \n",
       "1  PAST MEDICAL HISTORY:, He has difficulty climb...  \n",
       "2  HISTORY OF PRESENT ILLNESS: , I have seen ABC ...  \n",
       "3  2-D M-MODE: , ,1.  Left atrial enlargement wit...  \n",
       "4  1.  The left ventricular cavity size and wall ...  "
      ]
     },
     "execution_count": 16,
     "metadata": {},
     "output_type": "execute_result"
    }
   ],
   "source": [
    "# import packages and data\n",
    "import numpy as np\n",
    "import pandas as pd\n",
    "import matplotlib.pyplot as plt\n",
    "import seaborn as sns\n",
    "import warnings; warnings.simplefilter('ignore')\n",
    "sns.set()\n",
    "df = pd.read_csv('data/mtsamples.csv')\n",
    "df.head()"
   ]
  },
  {
   "cell_type": "markdown",
   "metadata": {},
   "source": [
    "Having checked out our data, let's simulate some hand labeled rows by using the `Medical_specialty` column"
   ]
  },
  {
   "cell_type": "code",
   "execution_count": 17,
   "metadata": {},
   "outputs": [
    {
     "data": {
      "text/html": [
       "<div>\n",
       "<style scoped>\n",
       "    .dataframe tbody tr th:only-of-type {\n",
       "        vertical-align: middle;\n",
       "    }\n",
       "\n",
       "    .dataframe tbody tr th {\n",
       "        vertical-align: top;\n",
       "    }\n",
       "\n",
       "    .dataframe thead th {\n",
       "        text-align: right;\n",
       "    }\n",
       "</style>\n",
       "<table border=\"1\" class=\"dataframe\">\n",
       "  <thead>\n",
       "    <tr style=\"text-align: right;\">\n",
       "      <th></th>\n",
       "      <th>index</th>\n",
       "      <th>Description</th>\n",
       "      <th>Medical_specialty</th>\n",
       "      <th>Sample_name</th>\n",
       "      <th>transcription</th>\n",
       "      <th>label</th>\n",
       "    </tr>\n",
       "  </thead>\n",
       "  <tbody>\n",
       "    <tr>\n",
       "      <th>0</th>\n",
       "      <td>84</td>\n",
       "      <td>An example/template for meatotomy.</td>\n",
       "      <td>Urology</td>\n",
       "      <td>Meatotomy Template</td>\n",
       "      <td>OPERATIVE NOTE:  ,The patient was taken to the...</td>\n",
       "      <td>0</td>\n",
       "    </tr>\n",
       "    <tr>\n",
       "      <th>1</th>\n",
       "      <td>2470</td>\n",
       "      <td>Normal physical exam template.  Normal appear...</td>\n",
       "      <td>Office Notes</td>\n",
       "      <td>Normal Physical Exam Template - 6</td>\n",
       "      <td>VITAL SIGNS:,  Reveal a blood pressure of *, t...</td>\n",
       "      <td>0</td>\n",
       "    </tr>\n",
       "    <tr>\n",
       "      <th>2</th>\n",
       "      <td>2804</td>\n",
       "      <td>Neurologic consultation was requested to asse...</td>\n",
       "      <td>Neurology</td>\n",
       "      <td>Neurologic Consultation - 3</td>\n",
       "      <td>HISTORY: , Neurologic consultation was request...</td>\n",
       "      <td>0</td>\n",
       "    </tr>\n",
       "    <tr>\n",
       "      <th>3</th>\n",
       "      <td>4987</td>\n",
       "      <td>Multiple sharp force injuries, involving ches...</td>\n",
       "      <td>Autopsy</td>\n",
       "      <td>Autopsy - 6</td>\n",
       "      <td>ANATOMICAL SUMMARY,1. Sharp force wound of nec...</td>\n",
       "      <td>0</td>\n",
       "    </tr>\n",
       "    <tr>\n",
       "      <th>4</th>\n",
       "      <td>4924</td>\n",
       "      <td>The patient with atypical type right arm disc...</td>\n",
       "      <td>Cardiovascular / Pulmonary</td>\n",
       "      <td>Cardiac Catheterization - 2</td>\n",
       "      <td>INDICATIONS FOR PROCEDURE:, The patient has pr...</td>\n",
       "      <td>0</td>\n",
       "    </tr>\n",
       "  </tbody>\n",
       "</table>\n",
       "</div>"
      ],
      "text/plain": [
       "   index                                        Description  \\\n",
       "0     84                 An example/template for meatotomy.   \n",
       "1   2470   Normal physical exam template.  Normal appear...   \n",
       "2   2804   Neurologic consultation was requested to asse...   \n",
       "3   4987   Multiple sharp force injuries, involving ches...   \n",
       "4   4924   The patient with atypical type right arm disc...   \n",
       "\n",
       "             Medical_specialty                          Sample_name  \\\n",
       "0                      Urology                  Meatotomy Template    \n",
       "1                 Office Notes   Normal Physical Exam Template - 6    \n",
       "2                    Neurology         Neurologic Consultation - 3    \n",
       "3                      Autopsy                         Autopsy - 6    \n",
       "4   Cardiovascular / Pulmonary         Cardiac Catheterization - 2    \n",
       "\n",
       "                                       transcription  label  \n",
       "0  OPERATIVE NOTE:  ,The patient was taken to the...      0  \n",
       "1  VITAL SIGNS:,  Reveal a blood pressure of *, t...      0  \n",
       "2  HISTORY: , Neurologic consultation was request...      0  \n",
       "3  ANATOMICAL SUMMARY,1. Sharp force wound of nec...      0  \n",
       "4  INDICATIONS FOR PROCEDURE:, The patient has pr...      0  "
      ]
     },
     "execution_count": 17,
     "metadata": {},
     "output_type": "execute_result"
    }
   ],
   "source": [
    "# hand label some rows\n",
    "N = 250\n",
    "df = df.sample(frac=1, random_state=42).reset_index()\n",
    "df_labeled = df.iloc[:N]\n",
    "df_unlabeled = df.iloc[N:]\n",
    "df_labeled['label'] = (df_labeled['Medical_specialty'].str.contains('Surgery') == 1).astype(int)\n",
    "df_unlabeled['label'] = None\n",
    "df_labeled.head()"
   ]
  },
  {
   "cell_type": "markdown",
   "metadata": {},
   "source": [
    "These acts of hand labeling serve two purposes:\n",
    "\n",
    "1. to teach us about the class balance and base rate\n",
    "2. to create a small validation set\n",
    "\n",
    "When building our label model, it will be key to make sure that the model at least approximately respects the class balance, as encoded in the base rate of these hand labels, so lte's calculate the base rate now."
   ]
  },
  {
   "cell_type": "code",
   "execution_count": 18,
   "metadata": {},
   "outputs": [
    {
     "data": {
      "text/plain": [
       "'Base rate = 0.24'"
      ]
     },
     "execution_count": 18,
     "metadata": {},
     "output_type": "execute_result"
    }
   ],
   "source": [
    "base_rate = sum(df_labeled['label'])/len(df_labeled)\n",
    "f\"Base rate = {base_rate}\""
   ]
  },
  {
   "cell_type": "markdown",
   "metadata": {},
   "source": [
    "### The Base Rate Distribution\n",
    "\n",
    "It's now time to introduce the first key figure: the **base rate distribution**. What do we mean by \"distribution\" here, given that that we have an actual base rate? Well, one way to think about it is that we've calculated the base rate from a sample of the data. This means that we don't know the exact base rate and our uncertaintly around it can be characterized by a distribution. One technical way to formulate this uncertaintly is using Bayesian techniques and, essentially, our knowledge about the base rate is encoded by the posterior distribution. You don't need to know too much about Bayesian methods to get the gist of this, but if you'd like to know more, you can check out some introductory material [here](https://github.com/ericmjl/bayesian-stats-modelling-tutorial). Below, we write a function that plots the **base rate distribution** and we then plot the distribution for the data we hand labeled above.\n"
   ]
  },
  {
   "cell_type": "code",
   "execution_count": 19,
   "metadata": {},
   "outputs": [],
   "source": [
    "def plot_posterior(df, xlabel, ylabel):\n",
    "    \"\"\"Plot the posterior given a uniform prior; data df\"\"\"\n",
    "    # Amount of data\n",
    "    N = len(df)\n",
    "\n",
    "    # Flip coins \n",
    "    n_successes = df.label.sum()\n",
    "    \n",
    "    # X-axis for PDF\n",
    "    x = np.linspace(0, 1, 100)\n",
    "    \n",
    "    # Write out equation for uniform prior\n",
    "    prior = np.ones(len(x))\n",
    "    \n",
    "    # Write out equation for posterior, which is likelihood * prior.\n",
    "    posterior = (x**n_successes) * ((1-x)**(N-n_successes)) * prior\n",
    "    \n",
    "    # Pseudo-normalize the posterior so that we can compare them on the same scale.\n",
    "    posterior /= np.max(posterior)  \n",
    "    \n",
    "    # Plot posterior\n",
    "    plt.plot(x, posterior)\n",
    "    plt.xlabel(xlabel)\n",
    "    plt.ylabel(ylabel)\n",
    "    plt.show()"
   ]
  },
  {
   "cell_type": "code",
   "execution_count": 20,
   "metadata": {},
   "outputs": [
    {
     "data": {
      "image/png": "[encoded data removed]",
      "text/plain": [
       "<Figure size 432x288 with 1 Axes>"
      ]
     },
     "metadata": {},
     "output_type": "display_data"
    }
   ],
   "source": [
    "# plot base rate distribution\n",
    "# to do: include axis labels etc...\n",
    "plot_posterior(df_labeled, 'Base Rate', 'Scaled Probability')\n"
   ]
  },
  {
   "cell_type": "markdown",
   "metadata": {},
   "source": [
    "First note the the peak of the distribution is at the base rate we calculated, meaning that this is the most likely base rate. However, the spread in the distribution also captures our uncertainty around the base rate.\n",
    "\n",
    "It is essential to keep an eye on this figure as we iterate on our model, as any model will need to predict a base rate that is close to the peak of the base rate distribution.\n",
    "\n",
    "Note that \n",
    "\n",
    "- as you generate more and more data, your posterior gets narrower, i.e. you get more and more certain of your estimate.\n",
    "- you need more data to be certain of your estimate when $p=0.5$, as opposed to when $p=0$ or $p=1$.\n",
    "\n",
    "To see these, play around with interact widget below, by altering $p$ and $N$ for a biased coin flip:"
   ]
  },
  {
   "cell_type": "code",
   "execution_count": 21,
   "metadata": {},
   "outputs": [],
   "source": [
    "def plot_posterior_flip(p=0.6, N=0):\n",
    "    \"\"\"Plot the posterior given a uniform prior; Bernoulli trials\n",
    "    with probability p; sample size N\"\"\"\n",
    "    np.random.seed(42)\n",
    "    # Flip coins \n",
    "    n_successes = np.random.binomial(N, p)\n",
    "    # X-axis for PDF\n",
    "    x = np.linspace(0, 1, 100)\n",
    "    # Prior\n",
    "    prior = 1\n",
    "    # Compute posterior, given the likelihood (analytic form)\n",
    "    posterior = x**n_successes*(1-x)**(N-n_successes)*prior\n",
    "    posterior /= np.max(posterior)  # so that peak always at 1\n",
    "    plt.plot(x, posterior)\n",
    "    plt.xlabel('p')\n",
    "    plt.ylabel('N')"
   ]
  },
  {
   "cell_type": "code",
   "execution_count": 22,
   "metadata": {},
   "outputs": [
    {
     "data": {
      "application/vnd.jupyter.widget-view+json": {
       "model_id": "520c6935ac0845168f6d41c3303c0cbf",
       "version_major": 2,
       "version_minor": 0
      },
      "text/plain": [
       "interactive(children=(FloatSlider(value=0.6, description='p', max=1.0, step=0.01), IntSlider(value=0, descript…"
      ]
     },
     "metadata": {},
     "output_type": "display_data"
    }
   ],
   "source": [
    "from ipywidgets import interact\n",
    "interact(plot_posterior_flip, p=(0, 1, 0.01), N=(0, 1500));"
   ]
  },
  {
   "cell_type": "markdown",
   "metadata": {},
   "source": [
    "### Programmatic Labeling with Domain Hinters\n",
    "\n",
    "Having hand labeled a subset of the data and calculated the base rate, it's time to get the machine to do some probabilistic labeling for us, using some domain expertise. \n",
    "\n",
    "A doctor, for example, may know that, if the transcription includes the term 'ANESTHESIA', then it's quite likely that surgery occurred. This type of knowledge, once encoded for computation, is known as a hinter, or a Labeling Function.\n",
    "\n",
    "We can use this information to build a model in several ways, including building a generative model, which we'll do soon. For simplicity's sake, as a first approximation we'll update the probabilistic labels by \n",
    "\n",
    "* increasing P(Surgery) from the base rate if the transcription includes the term 'ANESTHESIA' and \n",
    "* doing nothing if it doesn't (we're assuming that the absence of the term provides no signal here). \n",
    "\n",
    "There are many ways to increase P(Surgery) and, for simplicity, we take the average of the current P(Surgery) and a weight W (the weight is usually specified by the SME and encodes how confident they are that the hinter is correlated with positive results).\n"
   ]
  },
  {
   "cell_type": "code",
   "execution_count": 23,
   "metadata": {},
   "outputs": [
    {
     "data": {
      "text/plain": [
       "1319"
      ]
     },
     "execution_count": 23,
     "metadata": {},
     "output_type": "execute_result"
    }
   ],
   "source": [
    "# Combine labeled and unlabeled to retrieve our entire dataset\n",
    "df1 = pd.concat([df_labeled, df_unlabeled])\n",
    "\n",
    "# Check out how many rows contain the term of interest\n",
    "df1['transcription'].str.contains('ANESTHESIA').sum()"
   ]
  },
  {
   "cell_type": "code",
   "execution_count": 24,
   "metadata": {},
   "outputs": [
    {
     "data": {
      "text/plain": [
       "0.240    3647\n",
       "0.595    1352\n",
       "Name: P1, dtype: int64"
      ]
     },
     "execution_count": 24,
     "metadata": {},
     "output_type": "execute_result"
    }
   ],
   "source": [
    "# Create column to encode hinter result\n",
    "df1['h1'] = df1['transcription'].str.contains('ANESTHESIA')\n",
    "## Hinter will alter P(S): 1st approx. if row is +ve wrt hinter, take average; if row is -ve, do nothing\n",
    "## OR: if row is +ve, take average of P(S) and weight; if row is -ve\n",
    "##\n",
    "## Update P(S) as follows\n",
    "## If h1 is false, do nothing\n",
    "## If h1 is true, take average of P(S) and weight (95), unless labeled\n",
    "W = 0.95\n",
    "L = []\n",
    "for index, row in df1.iterrows():\n",
    "    if  df1.iloc[index]['h1']:\n",
    "        P1 = (base_rate + W)/2\n",
    "        L.append(P1)\n",
    "    else:\n",
    "        P1 = base_rate\n",
    "        L.append(P1)\n",
    "df1['P1'] = L\n",
    "# Check out what our probabilistic labels look like\n",
    "df1.P1.value_counts()"
   ]
  },
  {
   "cell_type": "markdown",
   "metadata": {},
   "source": [
    "Now that we've updated our model using a hinter, let's drill down into how our model is performing. The two most important things to check are\n",
    "1. How our probabilistic predictions match up with our hand labels and\n",
    "2. How our label distribution matches up with what we know about the base rate.\n",
    "\n",
    "For the former question, enter the probabilistic confusion matrix."
   ]
  },
  {
   "cell_type": "markdown",
   "metadata": {},
   "source": [
    "### The Probabilistic Confusion Matrix\n",
    "\n",
    "In a classical confusion matrix, one axis is your hand labels and the other access is the model prediction. \n",
    "In a probabilistic confusion matrix, your y axis is your hand labels and the x axis is model prediction. But in this case, the model prediction is a probability, as opposed to 'yes' or 'no', in the classical confusion matrix."
   ]
  },
  {
   "cell_type": "code",
   "execution_count": 26,
   "metadata": {},
   "outputs": [
    {
     "data": {
      "image/png": "[encoded data removed]",
      "text/plain": [
       "<Figure size 432x288 with 2 Axes>"
      ]
     },
     "metadata": {},
     "output_type": "display_data"
    }
   ],
   "source": [
    "plt.subplot(1, 2, 1)\n",
    "df1[df1.label == 1].P1.hist();\n",
    "plt.xlabel(\"Probalistic label\")\n",
    "plt.ylabel(\"Count\")\n",
    "plt.title(\"Hand Labeled 'Surgery'\")\n",
    "plt.xlim([0, 1])\n",
    "plt.subplot(1, 2, 2)\n",
    "df1[df1.label == 0].P1.hist();\n",
    "plt.xlabel(\"Probalistic label\");\n",
    "plt.title(\"Hand Labeled 'Not Surgery'\");\n",
    "plt.xlim([0, 1]);"
   ]
  },
  {
   "cell_type": "markdown",
   "metadata": {},
   "source": [
    "We see here that\n",
    "- The majority of data labeled 'Surgery' has P(S) around 0.60 (though not by much) and the rest around 0.24;\n",
    "- All rows hand labeled 'Not Surgery' have P(S) around 0.24 and the rest around 0.60.\n",
    "\n",
    "This is a good start, in that P(S) is skewed to the left for those label 'Not Surgery' and to the right for those labeled 'Surgery'. However, we would want it skewed far closer to P(S) = 1 for those label Surgery so there's still work to be done."
   ]
  },
  {
   "cell_type": "markdown",
   "metadata": {},
   "source": [
    "### Label Distribution Plot\n",
    "\n",
    "The next key plot is the label prediction distribution plot across the dataset: we want to see how our label predictions are distributed and whether this matches up to what we know of our base rate. For example, in our case, we know that our base rate is likely somewhere around 25%. So what we would expect to see in the label distribution is ~25% of our dataset with a near 100% chance of being surgery and ~75% of it with a low chance of being surgery."
   ]
  },
  {
   "cell_type": "code",
   "execution_count": 30,
   "metadata": {},
   "outputs": [
    {
     "data": {
      "image/png": "[encoded data removed]",
      "text/plain": [
       "<Figure size 432x288 with 1 Axes>"
      ]
     },
     "metadata": {},
     "output_type": "display_data"
    }
   ],
   "source": [
    "df1.P1.plot.kde();"
   ]
  },
  {
   "cell_type": "markdown",
   "metadata": {},
   "source": [
    "\n",
    "\n",
    "We see peaks at ~25% and ~60%, which means that our model really doesn't yet have a strong sense of the label and so we want to add more hinters.\n",
    "Essentially, we'd really like to see our probabilistic predictions closer to ) and 1, in a proportion that respects the base rate."
   ]
  },
  {
   "cell_type": "markdown",
   "metadata": {},
   "source": [
    "### Building more hinters\n",
    "\n",
    "To build better labels, we can inject more domain expertise by adding more hinters. We do this below by adding two more positive hinters (ones that are correlated with 'Surgery'), which alter our predicted probability in a manner analogous to the hinter above."
   ]
  },
  {
   "cell_type": "code",
   "execution_count": 31,
   "metadata": {},
   "outputs": [],
   "source": [
    "# Create column to encode hinter result\n",
    "df1['h2'] = df1['transcription'].str.contains('psych')\n",
    "## Hinter will alter P(S): 1st approx. if row is +ve wrt hinter, take average; if row is -ve, do nothing\n",
    "## OR: if row is +ve, take average of P(S) and weight; if row is -ve\n",
    "##\n",
    "## Update P(S) as follows\n",
    "## If h1 is false, do nothing\n",
    "## If h1 is true, take average of P(S) and weight (95), unless labeled\n",
    "W = 0.95\n",
    "L = []\n",
    "for index, row in df1.iterrows():\n",
    "    if  df1.iloc[index]['h2']:\n",
    "        P2 = (df1.iloc[index]['P1'] + W)/2\n",
    "        L.append(P2)\n",
    "    else:\n",
    "        P2 = df1.iloc[index]['P1']\n",
    "        L.append(P2)\n",
    "df1['P2'] = L"
   ]
  },
  {
   "cell_type": "code",
   "execution_count": 32,
   "metadata": {},
   "outputs": [
    {
     "data": {
      "image/png": "[encoded data removed]",
      "text/plain": [
       "<Figure size 432x288 with 2 Axes>"
      ]
     },
     "metadata": {},
     "output_type": "display_data"
    }
   ],
   "source": [
    "plt.subplot(1, 2, 1)\n",
    "df1[df1.label == 1].P2.hist();\n",
    "plt.xlabel(\"Probalistic label\")\n",
    "plt.ylabel(\"Count\")\n",
    "plt.title(\"Hand Labeled 'Surgery'\")\n",
    "plt.xlim([0, 1])\n",
    "plt.subplot(1, 2, 2)\n",
    "df1[df1.label == 0].P2.hist();\n",
    "plt.xlabel(\"Probalistic label\")\n",
    "plt.title(\"Hand Labeled 'Not Surgery'\");\n",
    "plt.xlim([0, 1]);"
   ]
  },
  {
   "cell_type": "code",
   "execution_count": 33,
   "metadata": {},
   "outputs": [
    {
     "data": {
      "image/png": "[encoded data removed]",
      "text/plain": [
       "<Figure size 432x288 with 1 Axes>"
      ]
     },
     "metadata": {},
     "output_type": "display_data"
    }
   ],
   "source": [
    "df1.P2.plot.kde();"
   ]
  },
  {
   "cell_type": "code",
   "execution_count": 34,
   "metadata": {},
   "outputs": [],
   "source": [
    "# Create column to encode hinter result\n",
    "df1['h3'] = df1['transcription'].str.contains('sponge')\n",
    "## Hinter will alter P(S): 1st approx. if row is +ve wrt hinter, take average; if row is -ve, do nothing\n",
    "## OR: if row is +ve, take average of P(S) and weight; if row is -ve\n",
    "##\n",
    "## Update P(S) as follows\n",
    "## If h1 is false, do nothing\n",
    "## If h1 is true, take average of P(S) and weight (95), unless labeled\n",
    "W = 0.95\n",
    "L = []\n",
    "for index, row in df1.iterrows():\n",
    "    if  df1.iloc[index]['h3']:\n",
    "        P3 = (df1.iloc[index]['P2'] + W)/2\n",
    "        L.append(P3)\n",
    "    else:\n",
    "        P3 = df1.iloc[index]['P2']\n",
    "        L.append(P3)\n",
    "df1['P3'] = L"
   ]
  },
  {
   "cell_type": "code",
   "execution_count": 35,
   "metadata": {},
   "outputs": [
    {
     "data": {
      "image/png": "[encoded data removed]",
      "text/plain": [
       "<Figure size 432x288 with 2 Axes>"
      ]
     },
     "metadata": {},
     "output_type": "display_data"
    }
   ],
   "source": [
    "plt.subplot(1, 2, 1)\n",
    "df1[df1.label == 1].P3.hist();\n",
    "plt.xlabel(\"Probalistic label\")\n",
    "plt.ylabel(\"Count\")\n",
    "plt.title(\"Hand Labeled 'Surgery'\")\n",
    "plt.xlim([0, 1])\n",
    "plt.subplot(1, 2, 2)\n",
    "df1[df1.label == 0].P3.hist();\n",
    "plt.xlabel(\"Probalistic label\")\n",
    "plt.title(\"Hand Labeled 'Not Surgery'\");\n",
    "plt.xlim([0, 1]);"
   ]
  },
  {
   "cell_type": "code",
   "execution_count": 36,
   "metadata": {},
   "outputs": [
    {
     "data": {
      "image/png": "[encoded data removed]",
      "text/plain": [
       "<Figure size 432x288 with 1 Axes>"
      ]
     },
     "metadata": {},
     "output_type": "display_data"
    }
   ],
   "source": [
    "df1.P3.plot.kde();"
   ]
  },
  {
   "cell_type": "markdown",
   "metadata": {},
   "source": [
    "Two things have happened, as we increased our number of hinters:\n",
    "\n",
    "1. In our probabilistic confusion matrix, we've seen the histogram for those hand labeled 'Surgery' move to the right, which is good! We've also seen the histogram for hand labeled 'Surgery' move slightly to the right, which we don't want. Note that this is because we have only introduced positive hinters so we may want to introduce negative hinters next or use a more sophisticated method of moving from hinter to probabilistic labels.\n",
    "2. Our label distribution plot now has more density above P(S) = 0.5 (more density on the right), which is also desirable. Recall what we would expect to see in the label distribution is ~25% of our dataset with a near 100% chance of being surgery and ~75% of it with a low chance of being surgery."
   ]
  },
  {
   "cell_type": "markdown",
   "metadata": {},
   "source": [
    "### Learning a Generative Model for P-Labels"
   ]
  },
  {
   "cell_type": "markdown",
   "metadata": {},
   "source": [
    "Such hinters, although instructive as toy examples, can only be so performant. Let's now use a larger set of hinters to see how if we can build better training data.\n",
    "\n",
    "We'll also use a more sophisticated method of moving from hinter to probabilistic label: instead of averaging over a weight and previous probabilistic prediction, we'll use a Naive Bayes model, which is a generative model. A generative model is one that models the _joint probability_ $P(X, Y)$ of features $X$ and target $Y$, in contrast to discriminative models that model the conditional probability $P(Y|X)$ of the target conditional on the features. A strength of using a generative model, as opposed to a discriminative model like a random forest, is that it allows us to model the complex relationships between the dat, the target variable, and the hinters: it allows us to answer questions such as \"Which hinters are noisier than the others?\" and \"In which cases are they noisy?\" For more on generative models, Google has a nice introduction [here](https://developers.google.com/machine-learning/gan/generative).\n",
    "\n",
    "To do this, we create arrays that encode whether or not a hinter is present, for any given row. First, let's create lists of positive and negative hinters:"
   ]
  },
  {
   "cell_type": "code",
   "execution_count": 37,
   "metadata": {},
   "outputs": [],
   "source": [
    "# List of positive hinters\n",
    "pos_hinters = ['anesthesia', 'subcuticular', 'sponge', 'retracted', 'monocryl', 'epinephrine', \n",
    "           'suite', 'secured', 'nylon', 'blunt dissection', 'irrigation', 'cautery', 'extubated', \n",
    "           'awakened', 'lithotomy', 'incised', 'silk', 'xylocaine', 'layers', 'grasped', 'gauge', \n",
    "           'fluoroscopy', 'suctioned', 'betadine', 'infiltrated', 'balloon', 'clamped']\n",
    "# List of negative hinters\n",
    "neg_hinters = ['reflexes', 'pupils', 'married', 'cyanosis', 'clubbing', 'normocephalic', 'diarrhea', 'chills', 'subjective']"
   ]
  },
  {
   "cell_type": "markdown",
   "metadata": {},
   "source": [
    "For each hinter, we now create a column in the DataFrame encoding whethere the teerm is in the transcription of that row:"
   ]
  },
  {
   "cell_type": "code",
   "execution_count": 38,
   "metadata": {},
   "outputs": [],
   "source": [
    "for hinter in pos_hinters:\n",
    "    df1[hinter] = df1['transcription'].str.contains(hinter, na=0).astype(int)\n",
    "    # print(df1[hinter].sum())\n",
    "for hinter in neg_hinters:\n",
    "    df1[hinter] = -df1['transcription'].str.contains(hinter, na=0).astype(int)\n",
    "    # print(df1[hinter].sum())"
   ]
  },
  {
   "cell_type": "markdown",
   "metadata": {},
   "source": [
    "We now convert the **labeled data** into NumPy arrays and split it into training and validation sets, in order to train our probabilistic predictions on the former and test them on the latter (note we're currently using only positive hinters)."
   ]
  },
  {
   "cell_type": "code",
   "execution_count": 39,
   "metadata": {},
   "outputs": [],
   "source": [
    "# extract labeled data\n",
    "df_lab = df1[~df1['label'].isnull()]\n",
    "#df_lab.info()\n",
    "# convert to numpy arrays\n",
    "X = df_lab[pos_hinters].to_numpy()\n",
    "y = df_lab['label'].to_numpy().astype(int)\n",
    "## split into training and validation sets\n",
    "from sklearn.model_selection import train_test_split\n",
    "X_train, X_test, y_train, y_test = train_test_split(\n",
    "       X, y, test_size=0.33, random_state=42)"
   ]
  },
  {
   "cell_type": "markdown",
   "metadata": {},
   "source": [
    "We now train a [(Bernoulli or Binary) Naive Bayes algorithm](https://scikit-learn.org/stable/modules/generated/sklearn.naive_bayes.BernoulliNB.html) on the training data:"
   ]
  },
  {
   "cell_type": "code",
   "execution_count": 41,
   "metadata": {},
   "outputs": [],
   "source": [
    "from sklearn.naive_bayes import BernoulliNB\n",
    "clf = BernoulliNB(class_prior=[base_rate, 1-base_rate])\n",
    "clf.fit(X_train, y_train);"
   ]
  },
  {
   "cell_type": "markdown",
   "metadata": {},
   "source": [
    "With this trained model, let's now make our probabilistic prediction on our validation (or test) set and visualize our probabilistic confusion matrix to compare our predictions with our hand labels:"
   ]
  },
  {
   "cell_type": "code",
   "execution_count": 42,
   "metadata": {},
   "outputs": [
    {
     "data": {
      "image/png": "[encoded data removed]",
      "text/plain": [
       "<Figure size 432x288 with 2 Axes>"
      ]
     },
     "metadata": {},
     "output_type": "display_data"
    }
   ],
   "source": [
    "probs_test = clf.predict_proba(X_test)\n",
    "df_val = pd.DataFrame({'label': y_test, 'pred': probs_test[:,1]})\n",
    "plt.subplot(1, 2, 1)\n",
    "df_val[df_val.label == 1].pred.hist();\n",
    "plt.xlabel(\"Probalistic label\")\n",
    "plt.ylabel(\"Count\")\n",
    "plt.title(\"Hand Labeled 'Surgery'\")\n",
    "plt.xlim([0, 1])\n",
    "plt.subplot(1, 2, 2)\n",
    "df_val[df_val.label == 0].pred.hist();\n",
    "plt.xlabel(\"Probalistic label\")\n",
    "plt.title(\"Hand Labeled 'Not Surgery'\");\n",
    "plt.xlim([0, 1]);"
   ]
  },
  {
   "cell_type": "markdown",
   "metadata": {},
   "source": [
    "This is cool! Using more hinters and a Naive Bayes model, we see that we've managed to increase the number of true positives _and_ true negatives. This is visible in the plots above as the histogram for the hand label 'Sugery' is skewed more to the right and the histogram for 'Not Surgery' to the left.\n",
    "\n",
    "Now let's plot the entire label distribution plot:"
   ]
  },
  {
   "cell_type": "code",
   "execution_count": 43,
   "metadata": {},
   "outputs": [
    {
     "data": {
      "image/png": "[encoded data removed]",
      "text/plain": [
       "<Figure size 432x288 with 1 Axes>"
      ]
     },
     "metadata": {},
     "output_type": "display_data"
    }
   ],
   "source": [
    "probs_all = clf.predict_proba(df1[pos_hinters].to_numpy())\n",
    "df1['pred'] = probs_all[:,1]\n",
    "df1.pred.plot.kde();"
   ]
  },
  {
   "cell_type": "markdown",
   "metadata": {},
   "source": [
    "This is a significant improvement to our previous labels, as we have far more density closer to 1. Let's now see if we can make any performance gains adding in the negative hinters."
   ]
  },
  {
   "cell_type": "code",
   "execution_count": 44,
   "metadata": {},
   "outputs": [],
   "source": [
    "# extract labeled data\n",
    "df_lab = df1[~df1['label'].isnull()]\n",
    "#df_lab.info()\n",
    "# convert to numpy arrays\n",
    "X = df_lab[pos_hinters + neg_hinters].to_numpy()\n",
    "y = df_lab['label'].to_numpy().astype(int)\n",
    "\n",
    "## split into training and validation sets\n",
    "from sklearn.model_selection import train_test_split\n",
    "X_train, X_test, y_train, y_test = train_test_split(\n",
    "       X, y, test_size=0.33, random_state=42)\n",
    "\n",
    "# Time to Naive Bayes that shit!\n",
    "from sklearn.naive_bayes import BernoulliNB\n",
    "clf = BernoulliNB(class_prior=[base_rate, 1-base_rate])\n",
    "clf.fit(X_train, y_train);"
   ]
  },
  {
   "cell_type": "markdown",
   "metadata": {},
   "source": [
    "Let's plot the probabilistic confusion matrix and the label distribution plot:"
   ]
  },
  {
   "cell_type": "code",
   "execution_count": 45,
   "metadata": {},
   "outputs": [
    {
     "data": {
      "image/png": "[encoded data removed]",
      "text/plain": [
       "<Figure size 432x288 with 2 Axes>"
      ]
     },
     "metadata": {},
     "output_type": "display_data"
    }
   ],
   "source": [
    "probs_test = clf.predict_proba(X_test)\n",
    "df_val = pd.DataFrame({'label': y_test, 'pred': probs_test[:,1]})\n",
    "plt.subplot(1, 2, 1)\n",
    "df_val[df_val.label == 1].pred.hist();\n",
    "plt.subplot(1, 2, 2)\n",
    "df_val[df_val.label == 0].pred.hist();"
   ]
  },
  {
   "cell_type": "code",
   "execution_count": 46,
   "metadata": {},
   "outputs": [
    {
     "data": {
      "image/png": "[encoded data removed]",
      "text/plain": [
       "<Figure size 432x288 with 1 Axes>"
      ]
     },
     "metadata": {},
     "output_type": "display_data"
    }
   ],
   "source": [
    "probs_all = clf.predict_proba(df1[pos_hinters + neg_hinters].to_numpy())\n",
    "df1['pred'] = probs_all[:,1]\n",
    "df1.pred.plot.kde();"
   ]
  },
  {
   "cell_type": "markdown",
   "metadata": {},
   "source": [
    "## Lesson 2: Probabilistic Weak Label Evaluation\n",
    "5. How do I evaluate label quality?\n",
    "6. How do I train a model with this data?"
   ]
  },
  {
   "cell_type": "markdown",
   "metadata": {},
   "source": [
    "## Lesson 3: Weak Signal Generation\n",
    "7. How do I generate more sources of weak signal?"
   ]
  }
 ],
 "metadata": {
  "kernelspec": {
   "display_name": "Python 3 (ipykernel)",
   "language": "python",
   "name": "python3"
  },
  "language_info": {
   "codemirror_mode": {
    "name": "ipython",
    "version": 3
   },
   "file_extension": ".py",
   "mimetype": "text/x-python",
   "name": "python",
   "nbconvert_exporter": "python",
   "pygments_lexer": "ipython3",
   "version": "3.10.4"
  }
 },
 "nbformat": 4,
 "nbformat_minor": 4
}
