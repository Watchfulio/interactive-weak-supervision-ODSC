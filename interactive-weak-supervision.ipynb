{
 "cells": [
  {
   "cell_type": "markdown",
   "metadata": {},
   "source": [
    "# Interactive Weak Supervision for NLP"
   ]
  },
  {
   "cell_type": "markdown",
   "metadata": {},
   "source": [
    "## Lesson 1: Foundational Weak Supervision\n",
    "\n",
    "Lesson highlights:\n",
    "* What is weak supervision?\n",
    "    * Noisy sources are used to provide superivison for labeling large amounts of training data\n",
    "* Why not hand label?\n",
    "    * Expensive, time consuming, and can sometimes be cost prohibitive if Subject Matter Experts are necessary in the labeling process (i.e: doctors in medical contexts)\n",
    "* Why not active learning? Why not synthetic data?\n",
    "    * Active learning and synthetic data generation are both useful techniques. There is no one-size-fits-all ML technique to solve all labeling problems. Weak supervision is useful when domain expertise can be discretely encoded and used to bootstrap the labeling process"
   ]
  },
  {
   "cell_type": "markdown",
   "metadata": {},
   "source": [
    "3 key figures that a data scientist or subject matter expert (SME) can leverage in order to gauge the performance of probabilistic models and use the performance as encoded by the figures to iterate on the model:\n",
    "\n",
    "Base rate distribution,\n",
    "Probabilistic confusion matrix, and\n",
    "Label prediction distribution."
   ]
  },
  {
   "cell_type": "markdown",
   "metadata": {},
   "source": [
    "The first step in the workflow is to hand label a small sample of the data. The data we'll be working with here is the medical transcriptions dataset from Kaggle and the task is to predict whether any given transcription involved surgery, as given in the 'medical specialty' column. We'll use this column to hand label several rows, for pedagogical purposes, but this will usually be an SME looking through the transcription to label the rows. Let's jump in and have a look at our data:"
   ]
  },
  {
   "cell_type": "code",
   "execution_count": 195,
   "metadata": {},
   "outputs": [
    {
     "data": {
      "text/html": [
       "<div>\n",
       "<style scoped>\n",
       "    .dataframe tbody tr th:only-of-type {\n",
       "        vertical-align: middle;\n",
       "    }\n",
       "\n",
       "    .dataframe tbody tr th {\n",
       "        vertical-align: top;\n",
       "    }\n",
       "\n",
       "    .dataframe thead th {\n",
       "        text-align: right;\n",
       "    }\n",
       "</style>\n",
       "<table border=\"1\" class=\"dataframe\">\n",
       "  <thead>\n",
       "    <tr style=\"text-align: right;\">\n",
       "      <th></th>\n",
       "      <th>Description</th>\n",
       "      <th>Medical_specialty</th>\n",
       "      <th>Sample_name</th>\n",
       "      <th>transcription</th>\n",
       "    </tr>\n",
       "  </thead>\n",
       "  <tbody>\n",
       "    <tr>\n",
       "      <th>0</th>\n",
       "      <td>A 23-year-old white female presents with comp...</td>\n",
       "      <td>Allergy / Immunology</td>\n",
       "      <td>Allergic Rhinitis</td>\n",
       "      <td>SUBJECTIVE:,  This 23-year-old white female pr...</td>\n",
       "    </tr>\n",
       "    <tr>\n",
       "      <th>1</th>\n",
       "      <td>Consult for laparoscopic gastric bypass.</td>\n",
       "      <td>Bariatrics</td>\n",
       "      <td>Laparoscopic Gastric Bypass Consult - 2</td>\n",
       "      <td>PAST MEDICAL HISTORY:, He has difficulty climb...</td>\n",
       "    </tr>\n",
       "    <tr>\n",
       "      <th>2</th>\n",
       "      <td>Consult for laparoscopic gastric bypass.</td>\n",
       "      <td>Bariatrics</td>\n",
       "      <td>Laparoscopic Gastric Bypass Consult - 1</td>\n",
       "      <td>HISTORY OF PRESENT ILLNESS: , I have seen ABC ...</td>\n",
       "    </tr>\n",
       "    <tr>\n",
       "      <th>3</th>\n",
       "      <td>2-D M-Mode. Doppler.</td>\n",
       "      <td>Cardiovascular / Pulmonary</td>\n",
       "      <td>2-D Echocardiogram - 1</td>\n",
       "      <td>2-D M-MODE: , ,1.  Left atrial enlargement wit...</td>\n",
       "    </tr>\n",
       "    <tr>\n",
       "      <th>4</th>\n",
       "      <td>2-D Echocardiogram</td>\n",
       "      <td>Cardiovascular / Pulmonary</td>\n",
       "      <td>2-D Echocardiogram - 2</td>\n",
       "      <td>1.  The left ventricular cavity size and wall ...</td>\n",
       "    </tr>\n",
       "  </tbody>\n",
       "</table>\n",
       "</div>"
      ],
      "text/plain": [
       "                                         Description  \\\n",
       "0   A 23-year-old white female presents with comp...   \n",
       "1           Consult for laparoscopic gastric bypass.   \n",
       "2           Consult for laparoscopic gastric bypass.   \n",
       "3                             2-D M-Mode. Doppler.     \n",
       "4                                 2-D Echocardiogram   \n",
       "\n",
       "             Medical_specialty                                Sample_name  \\\n",
       "0         Allergy / Immunology                         Allergic Rhinitis    \n",
       "1                   Bariatrics   Laparoscopic Gastric Bypass Consult - 2    \n",
       "2                   Bariatrics   Laparoscopic Gastric Bypass Consult - 1    \n",
       "3   Cardiovascular / Pulmonary                    2-D Echocardiogram - 1    \n",
       "4   Cardiovascular / Pulmonary                    2-D Echocardiogram - 2    \n",
       "\n",
       "                                       transcription  \n",
       "0  SUBJECTIVE:,  This 23-year-old white female pr...  \n",
       "1  PAST MEDICAL HISTORY:, He has difficulty climb...  \n",
       "2  HISTORY OF PRESENT ILLNESS: , I have seen ABC ...  \n",
       "3  2-D M-MODE: , ,1.  Left atrial enlargement wit...  \n",
       "4  1.  The left ventricular cavity size and wall ...  "
      ]
     },
     "execution_count": 195,
     "metadata": {},
     "output_type": "execute_result"
    }
   ],
   "source": [
    "# import packages and data\n",
    "import numpy as np\n",
    "import pandas as pd\n",
    "import matplotlib.pyplot as plt\n",
    "import seaborn as sns\n",
    "import warnings; warnings.simplefilter('ignore')\n",
    "sns.set()\n",
    "df = pd.read_csv('data/mtsamples.csv')\n",
    "df.head()"
   ]
  },
  {
   "cell_type": "markdown",
   "metadata": {},
   "source": [
    "Having checked out our data, let's simulate some hand labeled rows by using the `Medical_specialty` column"
   ]
  },
  {
   "cell_type": "code",
   "execution_count": 196,
   "metadata": {},
   "outputs": [
    {
     "data": {
      "text/html": [
       "<div>\n",
       "<style scoped>\n",
       "    .dataframe tbody tr th:only-of-type {\n",
       "        vertical-align: middle;\n",
       "    }\n",
       "\n",
       "    .dataframe tbody tr th {\n",
       "        vertical-align: top;\n",
       "    }\n",
       "\n",
       "    .dataframe thead th {\n",
       "        text-align: right;\n",
       "    }\n",
       "</style>\n",
       "<table border=\"1\" class=\"dataframe\">\n",
       "  <thead>\n",
       "    <tr style=\"text-align: right;\">\n",
       "      <th></th>\n",
       "      <th>index</th>\n",
       "      <th>Description</th>\n",
       "      <th>Medical_specialty</th>\n",
       "      <th>Sample_name</th>\n",
       "      <th>transcription</th>\n",
       "      <th>label</th>\n",
       "    </tr>\n",
       "  </thead>\n",
       "  <tbody>\n",
       "    <tr>\n",
       "      <th>0</th>\n",
       "      <td>84</td>\n",
       "      <td>An example/template for meatotomy.</td>\n",
       "      <td>Urology</td>\n",
       "      <td>Meatotomy Template</td>\n",
       "      <td>OPERATIVE NOTE:  ,The patient was taken to the...</td>\n",
       "      <td>0</td>\n",
       "    </tr>\n",
       "    <tr>\n",
       "      <th>1</th>\n",
       "      <td>2470</td>\n",
       "      <td>Normal physical exam template.  Normal appear...</td>\n",
       "      <td>Office Notes</td>\n",
       "      <td>Normal Physical Exam Template - 6</td>\n",
       "      <td>VITAL SIGNS:,  Reveal a blood pressure of *, t...</td>\n",
       "      <td>0</td>\n",
       "    </tr>\n",
       "    <tr>\n",
       "      <th>2</th>\n",
       "      <td>2804</td>\n",
       "      <td>Neurologic consultation was requested to asse...</td>\n",
       "      <td>Neurology</td>\n",
       "      <td>Neurologic Consultation - 3</td>\n",
       "      <td>HISTORY: , Neurologic consultation was request...</td>\n",
       "      <td>0</td>\n",
       "    </tr>\n",
       "    <tr>\n",
       "      <th>3</th>\n",
       "      <td>4987</td>\n",
       "      <td>Multiple sharp force injuries, involving ches...</td>\n",
       "      <td>Autopsy</td>\n",
       "      <td>Autopsy - 6</td>\n",
       "      <td>ANATOMICAL SUMMARY,1. Sharp force wound of nec...</td>\n",
       "      <td>0</td>\n",
       "    </tr>\n",
       "    <tr>\n",
       "      <th>4</th>\n",
       "      <td>4924</td>\n",
       "      <td>The patient with atypical type right arm disc...</td>\n",
       "      <td>Cardiovascular / Pulmonary</td>\n",
       "      <td>Cardiac Catheterization - 2</td>\n",
       "      <td>INDICATIONS FOR PROCEDURE:, The patient has pr...</td>\n",
       "      <td>0</td>\n",
       "    </tr>\n",
       "  </tbody>\n",
       "</table>\n",
       "</div>"
      ],
      "text/plain": [
       "   index                                        Description  \\\n",
       "0     84                 An example/template for meatotomy.   \n",
       "1   2470   Normal physical exam template.  Normal appear...   \n",
       "2   2804   Neurologic consultation was requested to asse...   \n",
       "3   4987   Multiple sharp force injuries, involving ches...   \n",
       "4   4924   The patient with atypical type right arm disc...   \n",
       "\n",
       "             Medical_specialty                          Sample_name  \\\n",
       "0                      Urology                  Meatotomy Template    \n",
       "1                 Office Notes   Normal Physical Exam Template - 6    \n",
       "2                    Neurology         Neurologic Consultation - 3    \n",
       "3                      Autopsy                         Autopsy - 6    \n",
       "4   Cardiovascular / Pulmonary         Cardiac Catheterization - 2    \n",
       "\n",
       "                                       transcription  label  \n",
       "0  OPERATIVE NOTE:  ,The patient was taken to the...      0  \n",
       "1  VITAL SIGNS:,  Reveal a blood pressure of *, t...      0  \n",
       "2  HISTORY: , Neurologic consultation was request...      0  \n",
       "3  ANATOMICAL SUMMARY,1. Sharp force wound of nec...      0  \n",
       "4  INDICATIONS FOR PROCEDURE:, The patient has pr...      0  "
      ]
     },
     "execution_count": 196,
     "metadata": {},
     "output_type": "execute_result"
    }
   ],
   "source": [
    "# hand label some rows\n",
    "N = 250\n",
    "df = df.sample(frac=1, random_state=42).reset_index()\n",
    "df_labeled = df.iloc[:N]\n",
    "df_unlabeled = df.iloc[N:]\n",
    "df_labeled['label'] = (df_labeled['Medical_specialty'].str.contains('Surgery') == 1).astype(int)\n",
    "df_unlabeled['label'] = None\n",
    "df_labeled.head()"
   ]
  },
  {
   "cell_type": "markdown",
   "metadata": {},
   "source": [
    "These acts of hand labeling serve two purposes:\n",
    "\n",
    "1. to teach us about the class balance and base rate\n",
    "2. to create a small validation set\n",
    "\n",
    "When building our label model, it will be key to make sure that the model at least approximately respects the class balance, as encoded in the base rate of these hand labels, so lte's calculate the base rate now."
   ]
  },
  {
   "cell_type": "code",
   "execution_count": 197,
   "metadata": {},
   "outputs": [
    {
     "data": {
      "text/plain": [
       "'Base rate = 0.24'"
      ]
     },
     "execution_count": 197,
     "metadata": {},
     "output_type": "execute_result"
    }
   ],
   "source": [
    "base_rate = sum(df_labeled['label'])/len(df_labeled)\n",
    "f\"Base rate = {base_rate}\""
   ]
  },
  {
   "cell_type": "markdown",
   "metadata": {},
   "source": [
    "## Lesson 2: Probabilistic Weak Label Evaluation"
   ]
  },
  {
   "cell_type": "markdown",
   "metadata": {},
   "source": [
    "### The Base Rate Distribution\n",
    "\n",
    "It's now time to introduce the first key figure: the **base rate distribution**. What do we mean by \"distribution\" here, given that that we have an actual base rate? Well, one way to think about it is that we've calculated the base rate from a sample of the data. This means that we don't know the exact base rate and our uncertaintly around it can be characterized by a distribution. One technical way to formulate this uncertaintly is using Bayesian techniques and, essentially, our knowledge about the base rate is encoded by the posterior distribution. You don't need to know too much about Bayesian methods to get the gist of this, but if you'd like to know more, you can check out some introductory material [here](https://github.com/ericmjl/bayesian-stats-modelling-tutorial). Below, we write a function that plots the **base rate distribution** and we then plot the distribution for the data we hand labeled above.\n"
   ]
  },
  {
   "cell_type": "code",
   "execution_count": 198,
   "metadata": {},
   "outputs": [],
   "source": [
    "def plot_posterior(df, xlabel, ylabel):\n",
    "    \"\"\"Plot the posterior given a uniform prior; data df\"\"\"\n",
    "    # Amount of data\n",
    "    N = len(df)\n",
    "\n",
    "    # Flip coins \n",
    "    n_successes = df.label.sum()\n",
    "    \n",
    "    # X-axis for PDF\n",
    "    x = np.linspace(0, 1, 100)\n",
    "    \n",
    "    # Write out equation for uniform prior\n",
    "    prior = np.ones(len(x))\n",
    "    \n",
    "    # Write out equation for posterior, which is likelihood * prior.\n",
    "    posterior = (x**n_successes) * ((1-x)**(N-n_successes)) * prior\n",
    "    \n",
    "    # Pseudo-normalize the posterior so that we can compare them on the same scale.\n",
    "    posterior /= np.max(posterior)  \n",
    "    \n",
    "    # Plot posterior\n",
    "    plt.plot(x, posterior)\n",
    "    plt.xlabel(xlabel)\n",
    "    plt.ylabel(ylabel)\n",
    "    plt.show()"
   ]
  },
  {
   "cell_type": "code",
   "execution_count": 199,
   "metadata": {},
   "outputs": [
    {
     "data": {
      "image/png": "[encoded data removed]",
      "text/plain": [
       "<Figure size 432x288 with 1 Axes>"
      ]
     },
     "metadata": {},
     "output_type": "display_data"
    }
   ],
   "source": [
    "# plot base rate distribution\n",
    "# to do: include axis labels etc...\n",
    "plot_posterior(df_labeled, 'Base Rate', 'Scaled Probability')"
   ]
  },
  {
   "cell_type": "markdown",
   "metadata": {},
   "source": [
    "First note the the peak of the distribution is at the base rate we calculated, meaning that this is the most likely base rate. However, the spread in the distribution also captures our uncertainty around the base rate.\n",
    "\n",
    "It is essential to keep an eye on this figure as we iterate on our model, as any model will need to predict a base rate that is close to the peak of the base rate distribution.\n",
    "\n",
    "Note that \n",
    "\n",
    "- as you generate more and more data, your posterior gets narrower, i.e. you get more and more certain of your estimate.\n",
    "- you need more data to be certain of your estimate when $p=0.5$, as opposed to when $p=0$ or $p=1$.\n",
    "\n",
    "To see these, play around with interact widget below, by altering $p$ and $N$ for a biased coin flip:"
   ]
  },
  {
   "cell_type": "code",
   "execution_count": 200,
   "metadata": {},
   "outputs": [],
   "source": [
    "def plot_posterior_flip(p=0.6, N=0):\n",
    "    \"\"\"Plot the posterior given a uniform prior; Bernoulli trials\n",
    "    with probability p; sample size N\"\"\"\n",
    "    np.random.seed(42)\n",
    "    # Flip coins \n",
    "    n_successes = np.random.binomial(N, p)\n",
    "    # X-axis for PDF\n",
    "    x = np.linspace(0, 1, 100)\n",
    "    # Prior\n",
    "    prior = 1\n",
    "    # Compute posterior, given the likelihood (analytic form)\n",
    "    posterior = x**n_successes*(1-x)**(N-n_successes)*prior\n",
    "    posterior /= np.max(posterior)  # so that peak always at 1\n",
    "    plt.plot(x, posterior)\n",
    "    plt.xlabel('p')\n",
    "    plt.ylabel('N')"
   ]
  },
  {
   "cell_type": "code",
   "execution_count": 35,
   "metadata": {},
   "outputs": [
    {
     "data": {
      "application/vnd.jupyter.widget-view+json": {
       "model_id": "163573d04c2d43b3ab0c58c6538fff3b",
       "version_major": 2,
       "version_minor": 0
      },
      "text/plain": [
       "interactive(children=(FloatSlider(value=0.6, description='p', max=1.0, step=0.01), IntSlider(value=0, descript…"
      ]
     },
     "metadata": {},
     "output_type": "display_data"
    }
   ],
   "source": [
    "from ipywidgets import interact\n",
    "interact(plot_posterior_flip, p=(0, 1, 0.01), N=(0, 1500));"
   ]
  },
  {
   "cell_type": "markdown",
   "metadata": {},
   "source": [
    "### Programmatic Labeling with Domain Hinters\n",
    "\n",
    "Having hand labeled a subset of the data and calculated the base rate, it's time to get the machine to do some probabilistic labeling for us, using some domain expertise. \n",
    "\n",
    "A doctor, for example, may know that, if the transcription includes the term 'ANESTHESIA', then it's quite likely that surgery occurred. This type of knowledge, once encoded for computation, is known as a hinter, or a Labeling Function.\n",
    "\n",
    "We can use this information to build a model in several ways, including building a generative model, which we'll do soon. For simplicity's sake, as a first approximation we'll update the probabilistic labels by \n",
    "\n",
    "* increasing P(Surgery) from the base rate if the transcription includes the term 'ANESTHESIA' and \n",
    "* doing nothing if it doesn't (we're assuming that the absence of the term provides no signal here). \n",
    "\n",
    "There are many ways to increase P(Surgery) and, for simplicity, we take the average of the current P(Surgery) and a weight W (the weight is usually specified by the SME and encodes how confident they are that the hinter is correlated with positive results).\n"
   ]
  },
  {
   "cell_type": "code",
   "execution_count": 201,
   "metadata": {},
   "outputs": [
    {
     "data": {
      "text/plain": [
       "1319"
      ]
     },
     "execution_count": 201,
     "metadata": {},
     "output_type": "execute_result"
    }
   ],
   "source": [
    "# Combine labeled and unlabeled to retrieve our entire dataset\n",
    "df1 = pd.concat([df_labeled, df_unlabeled])\n",
    "\n",
    "# Check out how many rows contain the term of interest\n",
    "df1['transcription'].str.contains('ANESTHESIA').sum()"
   ]
  },
  {
   "cell_type": "code",
   "execution_count": 202,
   "metadata": {},
   "outputs": [
    {
     "data": {
      "text/plain": [
       "0.240    3647\n",
       "0.595    1352\n",
       "Name: P1, dtype: int64"
      ]
     },
     "execution_count": 202,
     "metadata": {},
     "output_type": "execute_result"
    }
   ],
   "source": [
    "# Create column to encode hinter result\n",
    "df1['h1'] = df1['transcription'].str.contains('ANESTHESIA')\n",
    "## Hinter will alter P(S): 1st approx. if row is +ve wrt hinter, take average; if row is -ve, do nothing\n",
    "## OR: if row is +ve, take average of P(S) and weight; if row is -ve\n",
    "##\n",
    "## Update P(S) as follows\n",
    "## If h1 is false, do nothing\n",
    "## If h1 is true, take average of P(S) and weight (95), unless labeled\n",
    "W = 0.95\n",
    "L = []\n",
    "for index, row in df1.iterrows():\n",
    "    if  df1.iloc[index]['h1']:\n",
    "        P1 = (base_rate + W)/2\n",
    "        L.append(P1)\n",
    "    else:\n",
    "        P1 = base_rate\n",
    "        L.append(P1)\n",
    "df1['P1'] = L\n",
    "# Check out what our probabilistic labels look like\n",
    "df1.P1.value_counts()"
   ]
  },
  {
   "cell_type": "markdown",
   "metadata": {},
   "source": [
    "Now that we've updated our model using a hinter, let's drill down into how our model is performing. The two most important things to check are\n",
    "1. How our probabilistic predictions match up with our hand labels and\n",
    "2. How our label distribution matches up with what we know about the base rate.\n",
    "\n",
    "For the former question, enter the probabilistic confusion matrix."
   ]
  },
  {
   "cell_type": "markdown",
   "metadata": {},
   "source": [
    "### The Probabilistic Confusion Matrix\n",
    "\n",
    "In a classical confusion matrix, one axis is your hand labels and the other access is the model prediction. \n",
    "In a probabilistic confusion matrix, your y axis is your hand labels and the x axis is model prediction. But in this case, the model prediction is a probability, as opposed to 'yes' or 'no', in the classical confusion matrix."
   ]
  },
  {
   "cell_type": "code",
   "execution_count": 205,
   "metadata": {},
   "outputs": [
    {
     "data": {
      "image/png": "[encoded data removed]",
      "text/plain": [
       "<Figure size 432x288 with 2 Axes>"
      ]
     },
     "metadata": {},
     "output_type": "display_data"
    }
   ],
   "source": [
    "plt.subplot(1, 2, 1)\n",
    "df1[df1.label == 1].P1.hist();\n",
    "plt.xlabel(\"Probalistic label\")\n",
    "plt.ylabel(\"Count\")\n",
    "plt.title(\"Hand Labeled 'Surgery'\")\n",
    "plt.xlim([0, 1])\n",
    "plt.subplot(1, 2, 2)\n",
    "df1[df1.label == 0].P1.hist();\n",
    "plt.xlabel(\"Probalistic label\");\n",
    "plt.title(\"Hand Labeled 'Not Surgery'\");\n",
    "plt.xlim([0, 1]);"
   ]
  },
  {
   "cell_type": "markdown",
   "metadata": {},
   "source": [
    "We see here that\n",
    "- The majority of data labeled 'Surgery' has P(S) around 0.60 (though not by much) and the rest around 0.24;\n",
    "- All rows hand labeled 'Not Surgery' have P(S) around 0.24 and the rest around 0.60.\n",
    "\n",
    "This is a good start, in that P(S) is skewed to the left for those label 'Not Surgery' and to the right for those labeled 'Surgery'. However, we would want it skewed far closer to P(S) = 1 for those label Surgery so there's still work to be done."
   ]
  },
  {
   "cell_type": "markdown",
   "metadata": {},
   "source": [
    "### Label Distribution Plot\n",
    "\n",
    "The next key plot is the label prediction distribution plot across the dataset: we want to see how our label predictions are distributed and whether this matches up to what we know of our base rate. For example, in our case, we know that our base rate is likely somewhere around 25%. So what we would expect to see in the label distribution is ~25% of our dataset with a near 100% chance of being surgery and ~75% of it with a low chance of being surgery."
   ]
  },
  {
   "cell_type": "code",
   "execution_count": 206,
   "metadata": {},
   "outputs": [
    {
     "data": {
      "image/png": "[encoded data removed]",
      "text/plain": [
       "<Figure size 432x288 with 1 Axes>"
      ]
     },
     "metadata": {},
     "output_type": "display_data"
    }
   ],
   "source": [
    "df1.P1.plot.kde();"
   ]
  },
  {
   "cell_type": "markdown",
   "metadata": {},
   "source": [
    "\n",
    "\n",
    "We see peaks at ~25% and ~60%, which means that our model really doesn't yet have a strong sense of the label and so we want to add more hinters.\n",
    "Essentially, we'd really like to see our probabilistic predictions closer to ) and 1, in a proportion that respects the base rate."
   ]
  },
  {
   "cell_type": "markdown",
   "metadata": {},
   "source": [
    "### Building more hinters\n",
    "\n",
    "To build better labels, we can inject more domain expertise by adding more hinters. We do this below by adding two more positive hinters (ones that are correlated with 'Surgery'), which alter our predicted probability in a manner analogous to the hinter above."
   ]
  },
  {
   "cell_type": "code",
   "execution_count": 207,
   "metadata": {},
   "outputs": [],
   "source": [
    "# Create column to encode hinter result\n",
    "df1['h2'] = df1['transcription'].str.contains('blade')\n",
    "## Hinter will alter P(S): 1st approx. if row is +ve wrt hinter, take average; if row is -ve, do nothing\n",
    "## OR: if row is +ve, take average of P(S) and weight; if row is -ve\n",
    "##\n",
    "## Update P(S) as follows\n",
    "## If h1 is false, do nothing\n",
    "## If h1 is true, take average of P(S) and weight (95), unless labeled\n",
    "W = 0.95\n",
    "L = []\n",
    "for index, row in df1.iterrows():\n",
    "    if  df1.iloc[index]['h2']:\n",
    "        P2 = (df1.iloc[index]['P1'] + W)/2\n",
    "        L.append(P2)\n",
    "    else:\n",
    "        P2 = df1.iloc[index]['P1']\n",
    "        L.append(P2)\n",
    "df1['P2'] = L"
   ]
  },
  {
   "cell_type": "code",
   "execution_count": 208,
   "metadata": {},
   "outputs": [
    {
     "data": {
      "image/png": "[encoded data removed]",
      "text/plain": [
       "<Figure size 432x288 with 2 Axes>"
      ]
     },
     "metadata": {},
     "output_type": "display_data"
    }
   ],
   "source": [
    "plt.subplot(1, 2, 1)\n",
    "df1[df1.label == 1].P2.hist();\n",
    "plt.xlabel(\"Probalistic label\")\n",
    "plt.ylabel(\"Count\")\n",
    "plt.title(\"Hand Labeled 'Surgery'\")\n",
    "plt.xlim([0, 1])\n",
    "plt.subplot(1, 2, 2)\n",
    "df1[df1.label == 0].P2.hist();\n",
    "plt.xlabel(\"Probalistic label\")\n",
    "plt.title(\"Hand Labeled 'Not Surgery'\");\n",
    "plt.xlim([0, 1]);"
   ]
  },
  {
   "cell_type": "code",
   "execution_count": 209,
   "metadata": {},
   "outputs": [
    {
     "data": {
      "image/png": "[encoded data removed]",
      "text/plain": [
       "<Figure size 432x288 with 1 Axes>"
      ]
     },
     "metadata": {},
     "output_type": "display_data"
    }
   ],
   "source": [
    "df1.P2.plot.kde();"
   ]
  },
  {
   "cell_type": "code",
   "execution_count": 210,
   "metadata": {},
   "outputs": [],
   "source": [
    "# Create column to encode hinter result\n",
    "df1['h3'] = df1['transcription'].str.contains('sponge')\n",
    "## Hinter will alter P(S): 1st approx. if row is +ve wrt hinter, take average; if row is -ve, do nothing\n",
    "## OR: if row is +ve, take average of P(S) and weight; if row is -ve\n",
    "##\n",
    "## Update P(S) as follows\n",
    "## If h1 is false, do nothing\n",
    "## If h1 is true, take average of P(S) and weight (95), unless labeled\n",
    "W = 0.95\n",
    "L = []\n",
    "for index, row in df1.iterrows():\n",
    "    if  df1.iloc[index]['h3']:\n",
    "        P3 = (df1.iloc[index]['P2'] + W)/2\n",
    "        L.append(P3)\n",
    "    else:\n",
    "        P3 = df1.iloc[index]['P2']\n",
    "        L.append(P3)\n",
    "df1['P3'] = L"
   ]
  },
  {
   "cell_type": "code",
   "execution_count": 211,
   "metadata": {},
   "outputs": [
    {
     "data": {
      "image/png": "[encoded data removed]",
      "text/plain": [
       "<Figure size 432x288 with 2 Axes>"
      ]
     },
     "metadata": {},
     "output_type": "display_data"
    }
   ],
   "source": [
    "plt.subplot(1, 2, 1)\n",
    "df1[df1.label == 1].P3.hist();\n",
    "plt.xlabel(\"Probalistic label\")\n",
    "plt.ylabel(\"Count\")\n",
    "plt.title(\"Hand Labeled 'Surgery'\")\n",
    "plt.xlim([0, 1])\n",
    "plt.subplot(1, 2, 2)\n",
    "df1[df1.label == 0].P3.hist();\n",
    "plt.xlabel(\"Probalistic label\")\n",
    "plt.title(\"Hand Labeled 'Not Surgery'\");\n",
    "plt.xlim([0, 1]);"
   ]
  },
  {
   "cell_type": "code",
   "execution_count": 212,
   "metadata": {},
   "outputs": [
    {
     "data": {
      "image/png": "[encoded data removed]",
      "text/plain": [
       "<Figure size 432x288 with 1 Axes>"
      ]
     },
     "metadata": {},
     "output_type": "display_data"
    }
   ],
   "source": [
    "df1.P3.plot.kde();"
   ]
  },
  {
   "cell_type": "markdown",
   "metadata": {},
   "source": [
    "Two things have happened, as we increased our number of hinters:\n",
    "\n",
    "1. In our probabilistic confusion matrix, we've seen the histogram for those hand labeled 'Surgery' move to the right, which is good! We've also seen the histogram for hand labeled 'Surgery' move slightly to the right, which we don't want. Note that this is because we have only introduced positive hinters so we may want to introduce negative hinters next or use a more sophisticated method of moving from hinter to probabilistic labels.\n",
    "2. Our label distribution plot now has more density above P(S) = 0.5 (more density on the right), which is also desirable. Recall what we would expect to see in the label distribution is ~25% of our dataset with a near 100% chance of being surgery and ~75% of it with a low chance of being surgery."
   ]
  },
  {
   "cell_type": "markdown",
   "metadata": {},
   "source": [
    "### Learning a Generative Model for P-Labels"
   ]
  },
  {
   "cell_type": "markdown",
   "metadata": {},
   "source": [
    "Such hinters, although instructive as toy examples, can only be so performant. Let's now use a larger set of hinters to see how if we can build better training data.\n",
    "\n",
    "We'll also use a more sophisticated method of moving from hinter to probabilistic label: instead of averaging over a weight and previous probabilistic prediction, we'll use a Naive Bayes model, which is a generative model. A generative model is one that models the _joint probability_ $P(X, Y)$ of features $X$ and target $Y$, in contrast to discriminative models that model the conditional probability $P(Y|X)$ of the target conditional on the features. A strength of using a generative model, as opposed to a discriminative model like a random forest, is that it allows us to model the complex relationships between the dat, the target variable, and the hinters: it allows us to answer questions such as \"Which hinters are noisier than the others?\" and \"In which cases are they noisy?\" For more on generative models, Google has a nice introduction [here](https://developers.google.com/machine-learning/gan/generative).\n",
    "\n",
    "To do this, we create arrays that encode whether or not a hinter is present, for any given row. First, let's create lists of positive and negative hinters:"
   ]
  },
  {
   "cell_type": "code",
   "execution_count": 213,
   "metadata": {},
   "outputs": [],
   "source": [
    "# List of Positive Hinters\n",
    "pos_hinters = ['anesthesia', 'blade', 'sponge']\n",
    "# List of Negative Hinters\n",
    "neg_hinters = ['psych', 'reflexes', 'pupils', 'married']"
   ]
  },
  {
   "cell_type": "markdown",
   "metadata": {},
   "source": [
    "For each hinter, we now create a column in the DataFrame encoding whether the term is in the transcription of that row:"
   ]
  },
  {
   "cell_type": "code",
   "execution_count": 214,
   "metadata": {},
   "outputs": [],
   "source": [
    "for hinter in pos_hinters:\n",
    "    df1[hinter] = df1['transcription'].str.contains(hinter, na=0).astype(int)\n",
    "for hinter in neg_hinters:\n",
    "    df1[hinter] = -df1['transcription'].str.contains(hinter, na=0).astype(int)"
   ]
  },
  {
   "cell_type": "markdown",
   "metadata": {},
   "source": [
    "We now convert the **labeled data** into NumPy arrays and split it into training and validation sets, in order to train our probabilistic predictions on the former and test them on the latter (note we're currently using only positive hinters)."
   ]
  },
  {
   "cell_type": "code",
   "execution_count": 215,
   "metadata": {},
   "outputs": [],
   "source": [
    "# extract labeled data\n",
    "df_lab = df1[~df1['label'].isnull()]\n",
    "# convert to numpy arrays\n",
    "X = df_lab[pos_hinters].to_numpy()\n",
    "y = df_lab['label'].to_numpy().astype(int)\n",
    "## split into training and validation sets\n",
    "from sklearn.model_selection import train_test_split\n",
    "X_train, X_test, y_train, y_test = train_test_split(\n",
    "       X, y, test_size=0.33, random_state=42)"
   ]
  },
  {
   "cell_type": "markdown",
   "metadata": {},
   "source": [
    "We now train a [(Bernoulli or Binary) Naive Bayes algorithm](https://scikit-learn.org/stable/modules/generated/sklearn.naive_bayes.BernoulliNB.html) on the training data:"
   ]
  },
  {
   "cell_type": "code",
   "execution_count": 216,
   "metadata": {},
   "outputs": [],
   "source": [
    "from sklearn.naive_bayes import BernoulliNB\n",
    "clf = BernoulliNB(class_prior=[base_rate, 1-base_rate])\n",
    "clf.fit(X_train, y_train);"
   ]
  },
  {
   "cell_type": "markdown",
   "metadata": {},
   "source": [
    "With this trained model, let's now make our probabilistic prediction on our validation (or test) set and visualize our probabilistic confusion matrix to compare our predictions with our hand labels:"
   ]
  },
  {
   "cell_type": "code",
   "execution_count": 217,
   "metadata": {},
   "outputs": [
    {
     "data": {
      "image/png": "[encoded data removed]",
      "text/plain": [
       "<Figure size 432x288 with 2 Axes>"
      ]
     },
     "metadata": {},
     "output_type": "display_data"
    }
   ],
   "source": [
    "probs_test = clf.predict_proba(X_test)\n",
    "df_val = pd.DataFrame({'label': y_test, 'pred': probs_test[:,1]})\n",
    "plt.subplot(1, 2, 1)\n",
    "df_val[df_val.label == 1].pred.hist();\n",
    "plt.xlabel(\"Probalistic label\")\n",
    "plt.ylabel(\"Count\")\n",
    "plt.title(\"Hand Labeled 'Surgery'\")\n",
    "plt.xlim([0, 1])\n",
    "plt.subplot(1, 2, 2)\n",
    "df_val[df_val.label == 0].pred.hist();\n",
    "plt.xlabel(\"Probalistic label\")\n",
    "plt.title(\"Hand Labeled 'Not Surgery'\");\n",
    "plt.xlim([0, 1]);"
   ]
  },
  {
   "cell_type": "markdown",
   "metadata": {},
   "source": [
    "This is cool! Using more hinters and a Naive Bayes model, we see that we've managed to increase the number of true positives _and_ true negatives. This is visible in the plots above as the histogram for the hand label 'Sugery' is skewed more to the right and the histogram for 'Not Surgery' to the left.\n",
    "\n",
    "Now let's plot the entire label distribution plot:"
   ]
  },
  {
   "cell_type": "code",
   "execution_count": 218,
   "metadata": {},
   "outputs": [
    {
     "data": {
      "image/png": "[encoded data removed]",
      "text/plain": [
       "<Figure size 432x288 with 1 Axes>"
      ]
     },
     "metadata": {},
     "output_type": "display_data"
    }
   ],
   "source": [
    "probs_all = clf.predict_proba(df1[pos_hinters].to_numpy())\n",
    "df1['pred'] = probs_all[:,1]\n",
    "df1.pred.plot.kde();"
   ]
  },
  {
   "cell_type": "markdown",
   "metadata": {},
   "source": [
    "This is a significant improvement to our previous labels, as we have far more density closer to 1. Let's now see if we can make any performance gains adding in the negative hinters."
   ]
  },
  {
   "cell_type": "code",
   "execution_count": 219,
   "metadata": {},
   "outputs": [],
   "source": [
    "# extract labeled data\n",
    "df_lab = df1[~df1['label'].isnull()]\n",
    "#df_lab.info()\n",
    "# convert to numpy arrays\n",
    "X = df_lab[pos_hinters + neg_hinters].to_numpy()\n",
    "y = df_lab['label'].to_numpy().astype(int)\n",
    "\n",
    "## split into training and validation sets\n",
    "from sklearn.model_selection import train_test_split\n",
    "X_train, X_test, y_train, y_test = train_test_split(\n",
    "       X, y, test_size=0.33, random_state=42)\n",
    "\n",
    "# Time to Naive Bayes that shit!\n",
    "from sklearn.naive_bayes import BernoulliNB\n",
    "clf = BernoulliNB(class_prior=[base_rate, 1-base_rate])\n",
    "clf.fit(X_train, y_train);"
   ]
  },
  {
   "cell_type": "markdown",
   "metadata": {},
   "source": [
    "Let's plot the probabilistic confusion matrix and the label distribution plot:"
   ]
  },
  {
   "cell_type": "code",
   "execution_count": 220,
   "metadata": {},
   "outputs": [
    {
     "data": {
      "image/png": "[encoded data removed]",
      "text/plain": [
       "<Figure size 432x288 with 2 Axes>"
      ]
     },
     "metadata": {},
     "output_type": "display_data"
    }
   ],
   "source": [
    "probs_test = clf.predict_proba(X_test)\n",
    "df_val = pd.DataFrame({'label': y_test, 'pred': probs_test[:,1]})\n",
    "plt.subplot(1, 2, 1)\n",
    "plt.xlabel(\"Probalistic label\")\n",
    "plt.ylabel(\"Count\")\n",
    "plt.title(\"Hand Labeled 'Surgery'\")\n",
    "df_val[df_val.label == 1].pred.hist();\n",
    "plt.subplot(1, 2, 2)\n",
    "plt.xlabel(\"Probalistic label\")\n",
    "plt.title(\"Hand Labeled 'Not Surgery'\");\n",
    "df_val[df_val.label == 0].pred.hist();"
   ]
  },
  {
   "cell_type": "code",
   "execution_count": 222,
   "metadata": {},
   "outputs": [
    {
     "data": {
      "image/png": "[encoded data removed]",
      "text/plain": [
       "<Figure size 432x288 with 1 Axes>"
      ]
     },
     "metadata": {},
     "output_type": "display_data"
    }
   ],
   "source": [
    "probs_all = clf.predict_proba(df1[pos_hinters + neg_hinters].to_numpy())\n",
    "df1['pred'] = probs_all[:,1]\n",
    "df1.pred.plot.kde();"
   ]
  },
  {
   "cell_type": "markdown",
   "metadata": {},
   "source": [
    "## Lesson 3: Weak Signal Generation"
   ]
  },
  {
   "cell_type": "markdown",
   "metadata": {},
   "source": [
    "We could obviously continue this process above with larger lists of positive and negative hinters, but creating those hinters manually can still be arduous work. Weak supervision tends to perform best with large quantities of independent sources of signal, so driving through that process by sitting at a computer thinking about different hinters you could create is slow work."
   ]
  },
  {
   "cell_type": "markdown",
   "metadata": {},
   "source": [
    "We can try automatically generating some hinters using simple clustering and similarity techniques. For instance, let's see what we can do with just leveraging TF-IDF and KMeans."
   ]
  },
  {
   "cell_type": "code",
   "execution_count": 223,
   "metadata": {},
   "outputs": [],
   "source": [
    "from sklearn.feature_extraction.text import TfidfVectorizer\n",
    "from sklearn.cluster import KMeans\n",
    "from sklearn.decomposition import PCA\n",
    "import nltk\n",
    "from nltk.corpus import stopwords"
   ]
  },
  {
   "cell_type": "code",
   "execution_count": 224,
   "metadata": {},
   "outputs": [],
   "source": [
    "def preprocess_text(text: str, remove_stopwords: bool) -> str:\n",
    "    \"\"\"This utility function sanitizes a string by:\n",
    "    - removing numbers\n",
    "    - removing stopwords\n",
    "    - transforming in lowercase\n",
    "    - removing excessive whitespaces\n",
    "    Args:\n",
    "        text (str): the input text you want to clean\n",
    "        remove_stopwords (bool): whether or not to remove stopwords\n",
    "    Returns:\n",
    "        str: the cleaned text\n",
    "    \"\"\"\n",
    "    if not pd.isnull(text):\n",
    "        # remove stopwords\n",
    "        if remove_stopwords:\n",
    "            # 1. tokenize\n",
    "            tokens = nltk.word_tokenize(text)\n",
    "            # 2. check if stopword\n",
    "            tokens = [w for w in tokens if not w.lower() in stopwords.words(\"english\")]\n",
    "            # 3. join back together\n",
    "            text = \" \".join(tokens)\n",
    "        # return text in lower case and stripped of whitespaces\n",
    "        text = text.lower().strip()\n",
    "    return text"
   ]
  },
  {
   "cell_type": "code",
   "execution_count": 225,
   "metadata": {},
   "outputs": [],
   "source": [
    "df['cleaned'] = df['transcription'].apply(lambda x: preprocess_text(x, remove_stopwords=True))"
   ]
  },
  {
   "cell_type": "markdown",
   "metadata": {},
   "source": [
    "We'll use [TF-IDF](https://en.wikipedia.org/wiki/Tf%E2%80%93idf) to convert our transcriptions into a numerical format by identifying specific terms that are rare and likely predictive of our class.\n",
    "\n",
    "TF stands for term frequency, while IDF stands for inverse document frequency.\n",
    "The TF-IDF value increases proportionally to the number of times a word appears in the document, and is offset by the number of documents in the corpus that contain that word."
   ]
  },
  {
   "cell_type": "code",
   "execution_count": 262,
   "metadata": {},
   "outputs": [],
   "source": [
    "# initialize the vectorizer\n",
    "vectorizer = TfidfVectorizer(sublinear_tf=True, min_df=5, max_df=0.95)\n",
    "# fit_transform applies TF-IDF to clean transcriptions - we save the array of vectors in X\n",
    "X = vectorizer.fit_transform(df['cleaned'].values.astype('U'))"
   ]
  },
  {
   "cell_type": "markdown",
   "metadata": {},
   "source": [
    "X is the array of vectors that will be used to train the KMeans model. The default behavior of Sklearn is to create a *sparse matrix*. Vectorization generates vectors similar to this:\n",
    "\n",
    "`vector_a = [1.204, 0, 0, 0, 0, ..., 0]`\n",
    "\n",
    "We can actually plug this straight into our KMeans model"
   ]
  },
  {
   "cell_type": "code",
   "execution_count": 263,
   "metadata": {},
   "outputs": [],
   "source": [
    "# initialize kmeans with 3 centroids\n",
    "kmeans = KMeans(n_clusters=3, random_state=42)\n",
    "# fit the model\n",
    "kmeans.fit(X)\n",
    "# store cluster labels in a variable\n",
    "clusters = kmeans.labels_"
   ]
  },
  {
   "cell_type": "markdown",
   "metadata": {},
   "source": [
    "We have our X from the Tf-IDF vectorization and we have a KMeans model and related clusters. Now we want to put these two pieces together to understand the relationship between text and group."
   ]
  },
  {
   "cell_type": "code",
   "execution_count": 264,
   "metadata": {},
   "outputs": [],
   "source": [
    "df['cluster'] = clusters"
   ]
  },
  {
   "cell_type": "markdown",
   "metadata": {},
   "source": [
    "Let's check the relevant keywords for each centroid and see if we caught anything interesting"
   ]
  },
  {
   "cell_type": "code",
   "execution_count": 265,
   "metadata": {},
   "outputs": [
    {
     "name": "stdout",
     "output_type": "stream",
     "text": [
      "\n",
      "Cluster 0\n",
      "soft,respiratory,sounds,edema,discharge,dr,pressure,vital,hypertension,today,social,well,plan,time,heent,without,signs,illness,old,disease,also,day,abdomen,blood,regular,year,review,systems,daily,neck,family,present,extremities,negative,rate,chest,heart,examination,physical,medical,clear,allergies,denies,medications,normal,pain,mg,past,patient,history\n",
      "\n",
      "Cluster 1\n",
      "lesion,aortic,reason,scope,technique,throughout,moderate,valve,advanced,mg,distal,anterior,diagnosis,evaluation,mri,stenosis,revealed,significant,coronary,also,lower,noted,small,disease,images,within,cm,time,contrast,ct,well,without,artery,obtained,performed,history,unremarkable,pain,mild,seen,findings,impression,evidence,procedure,exam,nan,patient,left,normal,right\n",
      "\n",
      "Cluster 2\n",
      "noted,sutures,usual,lateral,identified,supine,tolerated,brought,mm,dissection,anterior,fascia,hemostasis,needle,wound,complications,tissue,recovery,area,applied,condition,general,well,performed,suture,position,made,draped,postoperative,preoperative,prepped,vicryl,taken,sterile,skin,left,used,closed,right,operating,room,fashion,using,removed,diagnosis,incision,anesthesia,patient,placed,procedure\n"
     ]
    }
   ],
   "source": [
    "def get_top_keywords(n_terms):\n",
    "    \"\"\"This function returns the keywords for each centroid of the KMeans\"\"\"\n",
    "    df = pd.DataFrame(X.todense()).groupby(clusters).mean() # groups the TF-IDF vector by cluster\n",
    "    terms = vectorizer.get_feature_names_out() # access tf-idf terms\n",
    "    for i,r in df.iterrows():\n",
    "        print('\\nCluster {}'.format(i))\n",
    "        print(','.join([terms[t] for t in np.argsort(r)[-n_terms:]])) # for each row of the dataframe, find the n terms that have the highest tf idf score\n",
    "            \n",
    "get_top_keywords(50)"
   ]
  },
  {
   "cell_type": "markdown",
   "metadata": {},
   "source": [
    "Cluster 2 seems to be fairly close to what we're looking for regarding 'Surgery' related concepts, while Clusters 0 and 1 seem to have some terms that might be more closely aligned to regular check ups. We can tweak the number of clusters we want to look at here, but for the sake of this demonstration we'll just stick to 3. We can use these keywords to create larger positive and negative hinter lists and we'll see how that improves our performance."
   ]
  },
  {
   "cell_type": "markdown",
   "metadata": {},
   "source": [
    "First, let's re-plot the charts from before for the sake of comparison."
   ]
  },
  {
   "cell_type": "code",
   "execution_count": 230,
   "metadata": {},
   "outputs": [
    {
     "data": {
      "image/png": "[encoded data removed]",
      "text/plain": [
       "<Figure size 432x288 with 2 Axes>"
      ]
     },
     "metadata": {},
     "output_type": "display_data"
    }
   ],
   "source": [
    "probs_test = clf.predict_proba(X_test)\n",
    "df_val = pd.DataFrame({'label': y_test, 'pred': probs_test[:,1]})\n",
    "plt.subplot(1, 2, 1)\n",
    "df_val[df_val.label == 1].pred.hist();\n",
    "plt.subplot(1, 2, 2)\n",
    "df_val[df_val.label == 0].pred.hist();"
   ]
  },
  {
   "cell_type": "code",
   "execution_count": 231,
   "metadata": {},
   "outputs": [
    {
     "data": {
      "image/png": "[encoded data removed]",
      "text/plain": [
       "<Figure size 432x288 with 1 Axes>"
      ]
     },
     "metadata": {},
     "output_type": "display_data"
    }
   ],
   "source": [
    "probs_all = clf.predict_proba(df1[pos_hinters + neg_hinters].to_numpy())\n",
    "df1['pred'] = probs_all[:,1]\n",
    "df1.pred.plot.kde();"
   ]
  },
  {
   "cell_type": "markdown",
   "metadata": {},
   "source": [
    "Next, let's update our hinter lists by drawing inspiration from the keywords in the clustering above."
   ]
  },
  {
   "cell_type": "code",
   "execution_count": 278,
   "metadata": {},
   "outputs": [],
   "source": [
    "# Updated list of positive hinters\n",
    "pos_hinters = ['anesthesia', 'blade', 'sponge', 'prepped', 'vicryl', 'sterile', 'operating', 'room', 'fashion' 'incision', 'procedure', 'closed', 'diagnosis', 'sutures', 'lateral', 'supine', 'dissection', 'fascia', 'hemostasis', 'needle', 'complications', 'suture', 'endoscopy', 'preoperative', 'postoperative']\n",
    "# Updated list of negative hinters\n",
    "neg_hinters = ['psych', 'reflexes', 'pupils', 'married', 'family', 'examination', 'physical', 'medical', 'allergies', 'medications', 'normal', 'history', 'unremarkable', 'findings']"
   ]
  },
  {
   "cell_type": "markdown",
   "metadata": {},
   "source": [
    "Finally, let's see how this has impacted our charts"
   ]
  },
  {
   "cell_type": "code",
   "execution_count": 279,
   "metadata": {},
   "outputs": [],
   "source": [
    "for hinter in pos_hinters:\n",
    "    df1[hinter] = df1['transcription'].str.contains(hinter, na=0).astype(int)\n",
    "    # print(df1[hinter].sum())\n",
    "for hinter in neg_hinters:\n",
    "    df1[hinter] = -df1['transcription'].str.contains(hinter, na=0).astype(int)\n",
    "    # print(df1[hinter].sum())"
   ]
  },
  {
   "cell_type": "code",
   "execution_count": 280,
   "metadata": {},
   "outputs": [],
   "source": [
    "# extract labeled data\n",
    "df_lab = df1[~df1['label'].isnull()]\n",
    "#df_lab.info()\n",
    "# convert to numpy arrays\n",
    "X = df_lab[pos_hinters + neg_hinters].to_numpy()\n",
    "y = df_lab['label'].to_numpy().astype(int)\n",
    "\n",
    "## split into training and validation sets\n",
    "from sklearn.model_selection import train_test_split\n",
    "X_train, X_test, y_train, y_test = train_test_split(\n",
    "       X, y, test_size=0.33, random_state=42)\n",
    "\n",
    "# Time to train our NB model\n",
    "from sklearn.naive_bayes import BernoulliNB\n",
    "clf = BernoulliNB(class_prior=[base_rate, 1-base_rate])\n",
    "clf.fit(X_train, y_train);"
   ]
  },
  {
   "cell_type": "code",
   "execution_count": 281,
   "metadata": {},
   "outputs": [
    {
     "data": {
      "image/png": "[encoded data removed]",
      "text/plain": [
       "<Figure size 432x288 with 2 Axes>"
      ]
     },
     "metadata": {},
     "output_type": "display_data"
    }
   ],
   "source": [
    "probs_test = clf.predict_proba(X_test)\n",
    "df_val = pd.DataFrame({'label': y_test, 'pred': probs_test[:,1]})\n",
    "plt.subplot(1, 2, 1)\n",
    "plt.xlabel(\"Probalistic label\")\n",
    "plt.ylabel(\"Count\")\n",
    "plt.title(\"Hand Labeled 'Surgery'\")\n",
    "df_val[df_val.label == 1].pred.hist();\n",
    "plt.subplot(1, 2, 2)\n",
    "plt.xlabel(\"Probalistic label\")\n",
    "plt.title(\"Hand Labeled 'Not Surgery'\");\n",
    "df_val[df_val.label == 0].pred.hist();"
   ]
  },
  {
   "cell_type": "code",
   "execution_count": 282,
   "metadata": {},
   "outputs": [
    {
     "data": {
      "image/png": "[encoded data removed]",
      "text/plain": [
       "<Figure size 432x288 with 1 Axes>"
      ]
     },
     "metadata": {},
     "output_type": "display_data"
    }
   ],
   "source": [
    "probs_all = clf.predict_proba(df1[pos_hinters + neg_hinters].to_numpy())\n",
    "df1['pred'] = probs_all[:,1]\n",
    "df1.pred.plot.kde();"
   ]
  },
  {
   "cell_type": "markdown",
   "metadata": {},
   "source": [
    "This is a huge improvement over our manually created hinters. We're able to get clear separation between low-probability and high-probability labels, and overall clear alignment with what we are considering as \"ground truth\". There are many ways to expand on this idea of hinter generation, but this was meant to be a simplistic example to demonstrate how effective these techniques can be when used correctly."
   ]
  },
  {
   "cell_type": "markdown",
   "metadata": {},
   "source": [
    "Let's finally take a look at some of the rows that were predicted to be very likely Surgery related, just for some spot checking"
   ]
  },
  {
   "cell_type": "code",
   "execution_count": 285,
   "metadata": {},
   "outputs": [
    {
     "data": {
      "text/html": [
       "<div>\n",
       "<style scoped>\n",
       "    .dataframe tbody tr th:only-of-type {\n",
       "        vertical-align: middle;\n",
       "    }\n",
       "\n",
       "    .dataframe tbody tr th {\n",
       "        vertical-align: top;\n",
       "    }\n",
       "\n",
       "    .dataframe thead th {\n",
       "        text-align: right;\n",
       "    }\n",
       "</style>\n",
       "<table border=\"1\" class=\"dataframe\">\n",
       "  <thead>\n",
       "    <tr style=\"text-align: right;\">\n",
       "      <th></th>\n",
       "      <th>transcription</th>\n",
       "      <th>Medical_specialty</th>\n",
       "      <th>pred</th>\n",
       "    </tr>\n",
       "  </thead>\n",
       "  <tbody>\n",
       "    <tr>\n",
       "      <th>0</th>\n",
       "      <td>OPERATIVE NOTE:  ,The patient was taken to the...</td>\n",
       "      <td>Urology</td>\n",
       "      <td>0.991785</td>\n",
       "    </tr>\n",
       "    <tr>\n",
       "      <th>5</th>\n",
       "      <td>CLINICAL HISTORY: ,This 78-year-old black woma...</td>\n",
       "      <td>Cardiovascular / Pulmonary</td>\n",
       "      <td>0.986590</td>\n",
       "    </tr>\n",
       "    <tr>\n",
       "      <th>7</th>\n",
       "      <td>PREOPERATIVE DIAGNOSIS: , Penoscrotal abscess....</td>\n",
       "      <td>Surgery</td>\n",
       "      <td>0.952260</td>\n",
       "    </tr>\n",
       "    <tr>\n",
       "      <th>9</th>\n",
       "      <td>PREOPERATIVE DIAGNOSIS: , Ruptured distal bice...</td>\n",
       "      <td>Surgery</td>\n",
       "      <td>0.995865</td>\n",
       "    </tr>\n",
       "    <tr>\n",
       "      <th>15</th>\n",
       "      <td>PROCEDURES: , Total knee replacement.,PROCEDUR...</td>\n",
       "      <td>Surgery</td>\n",
       "      <td>0.996212</td>\n",
       "    </tr>\n",
       "    <tr>\n",
       "      <th>...</th>\n",
       "      <td>...</td>\n",
       "      <td>...</td>\n",
       "      <td>...</td>\n",
       "    </tr>\n",
       "    <tr>\n",
       "      <th>4978</th>\n",
       "      <td>PREOPERATIVE DIAGNOSIS: , Left carpal tunnel s...</td>\n",
       "      <td>Surgery</td>\n",
       "      <td>0.923366</td>\n",
       "    </tr>\n",
       "    <tr>\n",
       "      <th>4985</th>\n",
       "      <td>PREOPERATIVE DIAGNOSES,1.  Basal cell carcinom...</td>\n",
       "      <td>Surgery</td>\n",
       "      <td>0.999940</td>\n",
       "    </tr>\n",
       "    <tr>\n",
       "      <th>4986</th>\n",
       "      <td>NORMAL CATARACT SURGERY,PROCEDURE DETAILS: , T...</td>\n",
       "      <td>Ophthalmology</td>\n",
       "      <td>0.985700</td>\n",
       "    </tr>\n",
       "    <tr>\n",
       "      <th>4995</th>\n",
       "      <td>HISTORY: , The patient is a 5-1/2-year-old, wh...</td>\n",
       "      <td>Surgery</td>\n",
       "      <td>0.925044</td>\n",
       "    </tr>\n",
       "    <tr>\n",
       "      <th>4997</th>\n",
       "      <td>PREOPERATIVE DIAGNOSES: , Bilateral cleft lip ...</td>\n",
       "      <td>ENT - Otolaryngology</td>\n",
       "      <td>0.999891</td>\n",
       "    </tr>\n",
       "  </tbody>\n",
       "</table>\n",
       "<p>1465 rows × 3 columns</p>\n",
       "</div>"
      ],
      "text/plain": [
       "                                          transcription  \\\n",
       "0     OPERATIVE NOTE:  ,The patient was taken to the...   \n",
       "5     CLINICAL HISTORY: ,This 78-year-old black woma...   \n",
       "7     PREOPERATIVE DIAGNOSIS: , Penoscrotal abscess....   \n",
       "9     PREOPERATIVE DIAGNOSIS: , Ruptured distal bice...   \n",
       "15    PROCEDURES: , Total knee replacement.,PROCEDUR...   \n",
       "...                                                 ...   \n",
       "4978  PREOPERATIVE DIAGNOSIS: , Left carpal tunnel s...   \n",
       "4985  PREOPERATIVE DIAGNOSES,1.  Basal cell carcinom...   \n",
       "4986  NORMAL CATARACT SURGERY,PROCEDURE DETAILS: , T...   \n",
       "4995  HISTORY: , The patient is a 5-1/2-year-old, wh...   \n",
       "4997  PREOPERATIVE DIAGNOSES: , Bilateral cleft lip ...   \n",
       "\n",
       "                Medical_specialty      pred  \n",
       "0                         Urology  0.991785  \n",
       "5      Cardiovascular / Pulmonary  0.986590  \n",
       "7                         Surgery  0.952260  \n",
       "9                         Surgery  0.995865  \n",
       "15                        Surgery  0.996212  \n",
       "...                           ...       ...  \n",
       "4978                      Surgery  0.923366  \n",
       "4985                      Surgery  0.999940  \n",
       "4986                Ophthalmology  0.985700  \n",
       "4995                      Surgery  0.925044  \n",
       "4997         ENT - Otolaryngology  0.999891  \n",
       "\n",
       "[1465 rows x 3 columns]"
      ]
     },
     "execution_count": 285,
     "metadata": {},
     "output_type": "execute_result"
    }
   ],
   "source": [
    "df1[['transcription', 'Medical_specialty', 'pred']].loc[df1['pred'] > 0.9]"
   ]
  },
  {
   "cell_type": "markdown",
   "metadata": {},
   "source": [
    "Note: not all of the"
   ]
  }
 ],
 "metadata": {
  "kernelspec": {
   "display_name": "Python 3 (ipykernel)",
   "language": "python",
   "name": "python3"
  },
  "language_info": {
   "codemirror_mode": {
    "name": "ipython",
    "version": 3
   },
   "file_extension": ".py",
   "mimetype": "text/x-python",
   "name": "python",
   "nbconvert_exporter": "python",
   "pygments_lexer": "ipython3",
   "version": "3.10.4"
  }
 },
 "nbformat": 4,
 "nbformat_minor": 4
}
